{
 "cells": [
  {
   "cell_type": "markdown",
   "metadata": {},
   "source": [
    "(b) Put the above function in a module and use another script to import the module and call the function in the script. "
   ]
  },
  {
   "cell_type": "code",
   "execution_count": 71,
   "metadata": {},
   "outputs": [
    {
     "name": "stdout",
     "output_type": "stream",
     "text": [
      "1000000000100100010000000001101001\n"
     ]
    }
   ],
   "source": [
    "from Encode import EncodeQR\n",
    "\n",
    "prod_name = input(\"Enter product name\")\n",
    "enc_list = EncodeQR(prod_name)\n",
    "print(enc_list)"
   ]
  },
  {
   "cell_type": "markdown",
   "metadata": {},
   "source": [
    "You are crazy about your selected domain. Today is The Day you can write a python program on YOUR DOMAIN!!! \n",
    "\n",
    "Create a class called \"Your Domain Name\" which has five attributes(2 string, 3 number). Initialize the variables in the \"__init_” method and write at least three more methods. With respect to your domain, you can create methods for getting Input, update the values, verify the condition, and etc,. \n",
    "\n",
    "1. Create two objects and call the functions. \n",
    "2. Implement the concept of Inheritance and Polymorphism. "
   ]
  },
  {
   "cell_type": "code",
   "execution_count": 60,
   "metadata": {},
   "outputs": [],
   "source": [
    "# Base class for general warehouse management\n",
    "class WarehouseManagement:\n",
    "    def __init__(self, product_name, product_id, quantity, capacity, location):\n",
    "        self.product_name = product_name\n",
    "        self.product_id = product_id\n",
    "        self.quantity = quantity\n",
    "        self.capacity = capacity\n",
    "        self.location = location\n",
    "\n",
    "    def get_input(self):\n",
    "        self.product_name = input(\"Enter product name: \")\n",
    "        self.product_id = input(\"Enter product ID: \")\n",
    "        self.quantity = int(input(\"Enter quantity: \"))\n",
    "        self.capacity = int(input(\"Enter capacity: \"))\n",
    "        self.location = input(\"Enter location: \")\n",
    "\n",
    "    def update_values(self):\n",
    "        self.product_name = input(\"Enter new product name: \")\n",
    "        self.product_id = input(\"Enter new product ID: \")\n",
    "        self.quantity = int(input(\"Enter new quantity: \"))\n",
    "        self.capacity = int(input(\"Enter new capacity: \"))\n",
    "        self.location = input(\"Enter new location: \")\n",
    "\n",
    "    def verify_condition(self):\n",
    "        if self.quantity > self.capacity:\n",
    "            print(\"Quantity is greater than capacity.\")\n",
    "        elif self.quantity < 0:\n",
    "            print(\"Quantity cannot be negative.\")\n",
    "\n",
    "    def display_info(self):\n",
    "        return f\"Product Name: {self.product_name}\\nProduct ID: {self.product_id}\\nQuantity: {self.quantity}\\nCapacity: {self.capacity}\\nLocation: {self.location}\""
   ]
  },
  {
   "cell_type": "code",
   "execution_count": 61,
   "metadata": {},
   "outputs": [],
   "source": [
    "# Derived class that inherits from WarehouseManagement\n",
    "class FoodWarehouse(WarehouseManagement):\n",
    "    def __init__(self, product_name, product_id, quantity, capacity, location, expiration_date):\n",
    "        super().__init__(product_name, product_id, quantity, capacity, location)\n",
    "        self.expiration_date = expiration_date\n",
    "\n",
    "    def get_expiration_date(self):\n",
    "        return self.expiration_date\n",
    "\n",
    "    # Method override for __str__ to include expiration_date\n",
    "    def display_info(self):\n",
    "        return super().display_info() + f\"\\nExpiration Date: {self.expiration_date}\""
   ]
  },
  {
   "cell_type": "code",
   "execution_count": 59,
   "metadata": {},
   "outputs": [
    {
     "name": "stdout",
     "output_type": "stream",
     "text": [
      "Product Name: Pencils\n",
      "Product ID: G001\n",
      "Quantity: 500\n",
      "Capacity: 1000\n",
      "Location: Shelf B\n",
      "==============================\n",
      "Product Name: Apples\n",
      "Product ID: F123\n",
      "Quantity: 100\n",
      "Capacity: 150\n",
      "Location: Shelf A\n",
      "Expiration Date: 2023-08-31\n",
      "==============================\n"
     ]
    }
   ],
   "source": [
    "# Function to display information of a list of items using polymorphism\n",
    "def display_items_info(items):\n",
    "    for item in items:\n",
    "        print(item.display_info())\n",
    "        print(\"=\" * 30)\n",
    "\n",
    "# Main part of the program\n",
    "if __name__ == \"__main__\":\n",
    "    # Create different types of warehouse items\n",
    "    general_item = WarehouseManagement(\"Pencils\", \"G001\", 500, 1000, \"Shelf B\")\n",
    "    food_item = FoodWarehouse(\"Apples\", \"F123\", 100, 150, \"Shelf A\", \"2023-08-31\")\n",
    "\n",
    "    # Display information using polymorphism\n",
    "    items_list = [general_item, food_item]\n",
    "    display_items_info(items_list)"
   ]
  }
 ],
 "metadata": {
  "kernelspec": {
   "display_name": "Python 3",
   "language": "python",
   "name": "python3"
  },
  "language_info": {
   "codemirror_mode": {
    "name": "ipython",
    "version": 3
   },
   "file_extension": ".py",
   "mimetype": "text/x-python",
   "name": "python",
   "nbconvert_exporter": "python",
   "pygments_lexer": "ipython3",
   "version": "3.11.3"
  },
  "orig_nbformat": 4
 },
 "nbformat": 4,
 "nbformat_minor": 2
}
