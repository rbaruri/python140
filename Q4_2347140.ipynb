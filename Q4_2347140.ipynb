{
 "cells": [
  {
   "cell_type": "markdown",
   "metadata": {},
   "source": [
    "(b) Put the above function in a module and use another script to import the module and call the function in the script. "
   ]
  },
  {
   "cell_type": "code",
   "execution_count": 44,
   "metadata": {},
   "outputs": [
    {
     "ename": "AttributeError",
     "evalue": "'WarehouseManagement' object has no attribute 'display_info'",
     "output_type": "error",
     "traceback": [
      "\u001b[1;31m---------------------------------------------------------------------------\u001b[0m",
      "\u001b[1;31mAttributeError\u001b[0m                            Traceback (most recent call last)",
      "Cell \u001b[1;32mIn[44], line 62\u001b[0m\n\u001b[0;32m     60\u001b[0m \u001b[39m# Display information using polymorphism\u001b[39;00m\n\u001b[0;32m     61\u001b[0m items_list \u001b[39m=\u001b[39m [general_item, food_item]\n\u001b[1;32m---> 62\u001b[0m display_items_info(items_list)\n",
      "Cell \u001b[1;32mIn[44], line 51\u001b[0m, in \u001b[0;36mdisplay_items_info\u001b[1;34m(items)\u001b[0m\n\u001b[0;32m     49\u001b[0m \u001b[39mdef\u001b[39;00m \u001b[39mdisplay_items_info\u001b[39m(items):\n\u001b[0;32m     50\u001b[0m     \u001b[39mfor\u001b[39;00m item \u001b[39min\u001b[39;00m items:\n\u001b[1;32m---> 51\u001b[0m         \u001b[39mprint\u001b[39m(item\u001b[39m.\u001b[39;49mdisplay_info())\n\u001b[0;32m     52\u001b[0m         \u001b[39mprint\u001b[39m(\u001b[39m\"\u001b[39m\u001b[39m=\u001b[39m\u001b[39m\"\u001b[39m \u001b[39m*\u001b[39m \u001b[39m30\u001b[39m)\n",
      "\u001b[1;31mAttributeError\u001b[0m: 'WarehouseManagement' object has no attribute 'display_info'"
     ]
    }
   ],
   "source": [
    "class WarehouseManagement:\n",
    "    def __init__(self, product_name, product_id, quantity, capacity, location):\n",
    "        self.product_name = product_name\n",
    "        self.product_id = product_id\n",
    "        self.quantity = quantity\n",
    "        self.capacity = capacity\n",
    "        self.location = location\n",
    "\n",
    "    def get_input(self):\n",
    "        self.product_name = input(\"Enter product name: \")\n",
    "        self.product_id = input(\"Enter product ID: \")\n",
    "        self.quantity = int(input(\"Enter quantity: \"))\n",
    "        self.capacity = int(input(\"Enter capacity: \"))\n",
    "        self.location = input(\"Enter location: \")\n",
    "\n",
    "    def update_values(self):\n",
    "        self.product_name = input(\"Enter new product name: \")\n",
    "        self.product_id = input(\"Enter new product ID: \")\n",
    "        self.quantity = int(input(\"Enter new quantity: \"))\n",
    "        self.capacity = int(input(\"Enter new capacity: \"))\n",
    "        self.location = input(\"Enter new location: \")\n",
    "\n",
    "    def verify_condition(self):\n",
    "        if self.quantity > self.capacity:\n",
    "            print(\"Quantity is greater than capacity.\")\n",
    "        elif self.quantity < 0:\n",
    "            print(\"Quantity cannot be negative.\")\n",
    "\n",
    "    def __str__(self):\n",
    "        return f\"Product Name: {self.product_name}\\nProduct ID: {self.product_id}\\nQuantity: {self.quantity}\\nCapacity: {self.capacity}\\nLocation: {self.location}\"\n",
    "\n",
    "\n",
    "class FoodWarehouse(WarehouseManagement):\n",
    "    def __init__(self, product_name, product_id, quantity, capacity, location, expiration_date):\n",
    "        # Using super() to call the constructor of the base class\n",
    "        super().__init__(product_name, product_id, quantity, capacity, location)\n",
    "        self.expiration_date = expiration_date\n",
    "\n",
    "    def get_expiration_date(self):\n",
    "        return self.expiration_date\n",
    "\n",
    "    # Method overriding: Providing a specialized version of the __str__ method\n",
    "    def __str__(self):\n",
    "        # Calling the __str__ method of the base class using super()\n",
    "        return super().__str__() + f\"\\nExpiration Date: {self.expiration_date}\"\n",
    "\n",
    "\n",
    "# Function to display information of a list of items using polymorphism\n",
    "def display_items_info(items):\n",
    "    for item in items:\n",
    "        print(item.display_info())\n",
    "        print(\"=\" * 30)\n",
    "\n",
    "# Main part of the program\n",
    "if __name__ == \"__main__\":\n",
    "    # Create different types of warehouse items\n",
    "    general_item = WarehouseManagement(\"Pencils\", \"G001\", 500, 1000, \"Shelf B\")\n",
    "    food_item = FoodWarehouse(\"Apples\", \"F123\", 100, 150, \"Shelf A\", \"2023-08-31\")\n",
    "\n",
    "    # Display information using polymorphism\n",
    "    items_list = [general_item, food_item]\n",
    "    display_items_info(items_list)\n"
   ]
  }
 ],
 "metadata": {
  "kernelspec": {
   "display_name": "Python 3",
   "language": "python",
   "name": "python3"
  },
  "language_info": {
   "codemirror_mode": {
    "name": "ipython",
    "version": 3
   },
   "file_extension": ".py",
   "mimetype": "text/x-python",
   "name": "python",
   "nbconvert_exporter": "python",
   "pygments_lexer": "ipython3",
   "version": "3.11.3"
  },
  "orig_nbformat": 4
 },
 "nbformat": 4,
 "nbformat_minor": 2
}
