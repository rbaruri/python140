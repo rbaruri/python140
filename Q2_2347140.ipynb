{
 "cells": [
  {
   "cell_type": "code",
   "execution_count": 36,
   "metadata": {},
   "outputs": [
    {
     "name": "stdout",
     "output_type": "stream",
     "text": [
      "The original list:[3, 12, 15]\n",
      "List is divisible by 3\n"
     ]
    }
   ],
   "source": [
    "#1. a)Is the given list divisible by 3 or NOT?\n",
    "\n",
    "l=[3,12,15]\n",
    "print(\"The original list:\" + str(l))\n",
    "\n",
    "newl=[x for x in l if x%3==0]\n",
    "if len(l)==len(newl):\n",
    "    print(\"List is divisible by 3\")\n",
    "else:\n",
    "    print(\"List is not divisible by 3\")\n"
   ]
  },
  {
   "cell_type": "code",
   "execution_count": 37,
   "metadata": {},
   "outputs": [
    {
     "name": "stdout",
     "output_type": "stream",
     "text": [
      "The original list:[3, 12, 14, 25, 16]\n",
      "Newlist:[12, 14, 16]\n",
      "Square:[144, 196, 256]\n"
     ]
    }
   ],
   "source": [
    "#b) Square of even numbers in a list\n",
    "\n",
    "l=[3,12,14,25,16]\n",
    "print(\"The original list:\" + str(l))\n",
    "\n",
    "newl=[x for x in l if x%2==0]\n",
    "print(\"Newlist:\" + str(newl))\n",
    "\n",
    "sq = [n**2 for n in newl]\n",
    "print(\"Square:\" +str(sq))\n"
   ]
  },
  {
   "cell_type": "code",
   "execution_count": 38,
   "metadata": {},
   "outputs": [
    {
     "name": "stdout",
     "output_type": "stream",
     "text": [
      "The original list is :[22, 4, 37, 10, 5]\n",
      "Newlist:[22, 4, 10]\n",
      "Sum:36\n"
     ]
    }
   ],
   "source": [
    "# c) Sum of digits of all EVEN numbers in a list\n",
    "\n",
    "list=[22,4,37,10,5]\n",
    "print(\"The original list is :\" + str(list))\n",
    "\n",
    "newlist=[x for x in list if x%2==0]\n",
    "print(\"Newlist:\" + str(newlist))\n",
    "\n",
    "x=sum(newlist)\n",
    "print(\"Sum:\" + str(x) )"
   ]
  },
  {
   "cell_type": "code",
   "execution_count": 39,
   "metadata": {},
   "outputs": [
    {
     "name": "stdout",
     "output_type": "stream",
     "text": [
      "The original list is : [1, 3, 5, 6, 3, 5, 6, 1]\n",
      "List after removing duplicates : [1, 3, 5, 6]\n"
     ]
    }
   ],
   "source": [
    "# d) Remove duplicate numbers in a list\n",
    "\n",
    "list = [1, 3, 5, 6, 3, 5, 6, 1]\n",
    "print(\"The original list is : \" + str(list))\n",
    "\n",
    "newlist = []\n",
    "[newlist.append(x) for x in list if x not in newlist]\n",
    "\n",
    "print (\"List after removing duplicates : \"\n",
    "       + str(newlist))\n"
   ]
  },
  {
   "cell_type": "code",
   "execution_count": 40,
   "metadata": {},
   "outputs": [],
   "source": [
    " #2 Create a dictionary to store the details of your company employees\n",
    " \n",
    "employee_details={\n",
    "     \"John Doe\":\"5 November 1988\",\n",
    "     \"Ted Smith\":\"15 September 1982\",\n",
    "     \"Harry Williams\":\"15 March 1992\",\n",
    "     \"Tom Ford\":\"12 November 1980\",\n",
    "     \"Will Whitaker\":\"8 April 1978\",\n",
    "     \"Gil Thorpe\":\"10 December 1985\",\n",
    "     \"Phil Dunphy\":\"23 January 1986\",\n",
    "     \"Angela White\":\"28 February 1989\"\n",
    "         }\n",
    "\n",
    "def birthDate(name):\n",
    "    for key, value in employee_details.items():\n",
    "        if name == key:\n",
    "            print(f\"{name}'s birthdate is {value}\")\n",
    "            return\n",
    "    print(f\"{name} is not found in the employee_details dictionary\")\n",
    "\n"
   ]
  },
  {
   "cell_type": "code",
   "execution_count": 41,
   "metadata": {},
   "outputs": [
    {
     "name": "stdout",
     "output_type": "stream",
     "text": [
      "Phil Dunphy's birthdate is 23 January 1986\n"
     ]
    }
   ],
   "source": [
    "birthDate('Phil Dunphy')"
   ]
  }
 ],
 "metadata": {
  "kernelspec": {
   "display_name": "Python 3",
   "language": "python",
   "name": "python3"
  },
  "language_info": {
   "codemirror_mode": {
    "name": "ipython",
    "version": 3
   },
   "file_extension": ".py",
   "mimetype": "text/x-python",
   "name": "python",
   "nbconvert_exporter": "python",
   "pygments_lexer": "ipython3",
   "version": "3.11.3"
  },
  "orig_nbformat": 4
 },
 "nbformat": 4,
 "nbformat_minor": 2
}
