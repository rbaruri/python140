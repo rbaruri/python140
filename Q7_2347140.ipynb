{
 "cells": [
  {
   "cell_type": "code",
   "execution_count": 27,
   "metadata": {},
   "outputs": [
    {
     "name": "stdout",
     "output_type": "stream",
     "text": [
      "[(1000, 'Torbati', 'Yolanda', 'F', 'Programmer')\n",
      " (1001, 'Kleinn', 'Joel', 'M', 'Programmer')\n",
      " (1002, 'Ginsburg', 'Laura', 'F', 'President')\n",
      " (1003, 'Cox', 'Jennifer', 'F', 'Programmer')\n",
      " (1005, 'Ziada', 'Mauri', 'M', 'Product Designer')\n",
      " (1006, 'Keyser', 'Cara', 'F', 'Account Executive')\n",
      " (1010, 'Smith', 'Roxie', 'M', 'Programmer')\n",
      " (1011, 'Nelson', 'Robert', 'M', 'Programmer')\n",
      " (1012, 'Sachsen', 'Lars', 'M', 'Support Technician')\n",
      " (1013, 'Shannon', 'Don', 'M', 'Product Designer')]\n"
     ]
    }
   ],
   "source": [
    "import numpy as np\n",
    "import re\n",
    "\n",
    "dtype=[('Emp_Id','i4'),('Last_Name','U15'),('First_Name','U15'),('Gender','U1'),('Title','U30')]\n",
    "data=np.array([(1000,'Torbati','Yolanda','F','Programmer'),\n",
    "               (1001,'Kleinn','Joel','M','Programmer'),\n",
    "               (1002,'Ginsburg','Laura','F','President'),\n",
    "               (1003,'Cox','Jennifer','F','Programmer'),\n",
    "               (1005,'Ziada','Mauri','M','Product Designer'),\n",
    "               (1006,'Keyser','Cara','F','Account Executive'),\n",
    "               (1010,'Smith','Roxie','M','Programmer'),\n",
    "               (1011,'Nelson','Robert','M','Programmer'),\n",
    "               (1012,'Sachsen','Lars','M','Support Technician'),\n",
    "               (1013,'Shannon','Don','M','Product Designer')\n",
    "               ],dtype=dtype)\n",
    "print(data)"
   ]
  },
  {
   "cell_type": "code",
   "execution_count": 28,
   "metadata": {},
   "outputs": [
    {
     "name": "stdout",
     "output_type": "stream",
     "text": [
      "No. of male employees: 6\n"
     ]
    }
   ],
   "source": [
    "male_count=data[np.where(data['Gender']=='M')]\n",
    "print(\"No. of male employees:\",len(male_count))\n"
   ]
  },
  {
   "cell_type": "code",
   "execution_count": 29,
   "metadata": {},
   "outputs": [
    {
     "name": "stdout",
     "output_type": "stream",
     "text": [
      "Last Name starts with S: [(1010, 'Smith', 'Roxie', 'M', 'Programmer')\n",
      " (1012, 'Sachsen', 'Lars', 'M', 'Support Technician')\n",
      " (1013, 'Shannon', 'Don', 'M', 'Product Designer')]\n"
     ]
    }
   ],
   "source": [
    "pattern = re.compile('^S')\n",
    "filtered_data = [employee for employee in data if pattern.match(employee['Last_Name'])]\n",
    "filtered_data_array = np.array(filtered_data, dtype=dtype)\n",
    "print(\"Last Name starts with S:\",filtered_data_array)\n",
    "\n"
   ]
  },
  {
   "cell_type": "code",
   "execution_count": 30,
   "metadata": {},
   "outputs": [
    {
     "name": "stdout",
     "output_type": "stream",
     "text": [
      "Female Employee details in descending order based on First_Name:\n",
      " [(1000, 'Torbati', 'Yolanda', 'F', 'Programmer')\n",
      " (1002, 'Ginsburg', 'Laura', 'F', 'President')\n",
      " (1003, 'Cox', 'Jennifer', 'F', 'Programmer')\n",
      " (1006, 'Keyser', 'Cara', 'F', 'Account Executive')]\n"
     ]
    }
   ],
   "source": [
    "female_data = data[data['Gender'] == 'F']\n",
    "female_data.sort(order='First_Name')\n",
    "female_data = female_data[::-1]\n",
    "print('Female Employee details in descending order based on First_Name:\\n',female_data)\n",
    "\n"
   ]
  },
  {
   "cell_type": "code",
   "execution_count": 31,
   "metadata": {},
   "outputs": [
    {
     "name": "stdout",
     "output_type": "stream",
     "text": [
      "1D Array (Emp_Id):\n",
      "[1000 1001 1002 1003 1005 1006 1010 1011 1012 1013]\n",
      "\n",
      "2D Array (Emp_Id):\n",
      "[[1000 1001]\n",
      " [1002 1003]\n",
      " [1005 1006]\n",
      " [1010 1011]\n",
      " [1012 1013]]\n"
     ]
    }
   ],
   "source": [
    "emp_id_1d = data['Emp_Id']\n",
    "num_columns = 2\n",
    "emp_id_2d = emp_id_1d.reshape(-1, num_columns)\n",
    "\n",
    "print(\"1D Array (Emp_Id):\")\n",
    "print(emp_id_1d)\n",
    "\n",
    "print(\"\\n2D Array (Emp_Id):\")\n",
    "print(emp_id_2d)"
   ]
  },
  {
   "cell_type": "code",
   "execution_count": 49,
   "metadata": {},
   "outputs": [
    {
     "name": "stdout",
     "output_type": "stream",
     "text": [
      "Extracted Data:\n",
      "[(1002, 'Ginsburg', 'President') (1003, 'Cox', 'Programmer')\n",
      " (1005, 'Ziada', 'Product Designer') (1006, 'Keyser', 'Account Executive')\n",
      " (1010, 'Smith', 'Programmer') (1011, 'Nelson', 'Programmer')\n",
      " (1012, 'Sachsen', 'Support Technician')]\n"
     ]
    }
   ],
   "source": [
    "rows_to_extract = [2,3,4,5,6,7,8]\n",
    "columns_to_extract=['Emp_Id','Last_Name','Title']\n",
    "extracted_data = data[rows_to_extract][columns_to_extract]\n",
    "\n",
    "print(\"Extracted Data:\")\n",
    "print(extracted_data)"
   ]
  }
 ],
 "metadata": {
  "kernelspec": {
   "display_name": "Python 3",
   "language": "python",
   "name": "python3"
  },
  "language_info": {
   "codemirror_mode": {
    "name": "ipython",
    "version": 3
   },
   "file_extension": ".py",
   "mimetype": "text/x-python",
   "name": "python",
   "nbconvert_exporter": "python",
   "pygments_lexer": "ipython3",
   "version": "3.11.4"
  },
  "orig_nbformat": 4
 },
 "nbformat": 4,
 "nbformat_minor": 2
}
