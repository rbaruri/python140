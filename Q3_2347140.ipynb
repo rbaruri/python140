{
 "cells": [
  {
   "cell_type": "code",
   "execution_count": 1,
   "metadata": {},
   "outputs": [],
   "source": [
    "def EncodeQR(name):\n",
    "    if len(name) < 1 or len(name) > 5:\n",
    "        print(\"Product name should be 1 to 5 characters long.\")\n",
    "    else:\n",
    "        encoded_qr = []\n",
    "\n",
    "        first_ch = True\n",
    "        for char in name:\n",
    "            binary_value = format(ord(char), '08b')\n",
    "            prefix = '1' if first_ch else '0'\n",
    "            encoded_qr.append(prefix + binary_value[1:])\n",
    "            first_ch = False\n",
    "\n",
    "    name=input(\"Enter Product Name\")\n",
    "    return encoded_qr"
   ]
  },
  {
   "cell_type": "markdown",
   "metadata": {},
   "source": []
  }
 ],
 "metadata": {
  "kernelspec": {
   "display_name": "Python 3",
   "language": "python",
   "name": "python3"
  },
  "language_info": {
   "codemirror_mode": {
    "name": "ipython",
    "version": 3
   },
   "file_extension": ".py",
   "mimetype": "text/x-python",
   "name": "python",
   "nbconvert_exporter": "python",
   "pygments_lexer": "ipython3",
   "version": "3.11.3"
  },
  "orig_nbformat": 4
 },
 "nbformat": 4,
 "nbformat_minor": 2
}
