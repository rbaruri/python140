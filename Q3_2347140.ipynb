{
 "cells": [
  {
   "cell_type": "markdown",
   "metadata": {},
   "source": [
    "1. You like using QR code for your firm/domain, you have QR code on your product. Now you would like to generate code for your products in python using QR code. \n",
    "(a). Write a function \"EncodeQR\" which takes the name of the product(in a string) at most \n",
    "5 characters with a minimum of one letter and returns back a list containing the encoded QR code. Use lambda functions wherever you find it appropriate. \n",
    "Example if the input is Hi \n",
    "H - Ascii value is 72, Binary conversion of 72 is 01001000 as this is the first character pad it with 10000000 so the encoded code for H is1000000001001000 \n",
    "i-Ascii value is 105,Binary conversion of 105 is 01101001 and this is second character pad it with 01000000 so the encoded code for 'i' is 0100000001101001 \n",
    "Hi - 10000000010010000100000001101001. "
   ]
  },
  {
   "cell_type": "code",
   "execution_count": 22,
   "metadata": {},
   "outputs": [
    {
     "name": "stdout",
     "output_type": "stream",
     "text": [
      "0100100001101001\n"
     ]
    }
   ],
   "source": [
    "def EncodeQR(name):\n",
    "    if len(name) < 1 or len(name) > 5:\n",
    "        print(\"Product name should be 1 to 5 characters long.\")\n",
    "    else:\n",
    "        encoded_qr = []\n",
    "        for char in name:\n",
    "            binary_value = format(ord(char), '08b')\n",
    "            padding = '0' * (8 - len(binary_value))\n",
    "            encoded_qr.append('{0}{1}'.format(padding, binary_value))\n",
    "            \n",
    "        return ''.join(encoded_qr)\n"
   ]
  },
  {
   "cell_type": "code",
   "execution_count": null,
   "metadata": {},
   "outputs": [
    {
     "name": "stdout",
     "output_type": "stream",
     "text": [
      "Input: cricket\n",
      "Encrypt Method: value of n = 7\n",
      "Output: jypjrla\n"
     ]
    }
   ],
   "source": [
    "def encrypt_string(input_string, n):\n",
    "\n",
    "    encrypted_string = \"\"\n",
    "    for char in input_string:\n",
    "        if char.isalpha():\n",
    "            base = ord('a') if char.islower() else ord('A')\n",
    "            encrypted_char = chr((ord(char) - base + n) % 26 + base)\n",
    "            encrypted_string += encrypted_char\n",
    "        else:\n",
    "            encrypted_string += char\n",
    "    return encrypted_string\n",
    "\n",
    "input_string = \"cricket\"\n",
    "n = 7\n",
    "encrypted_output = encrypt_string(input_string, n)\n",
    "print(\"Input:\", input_string)\n",
    "print(\"Encrypt Method: value of n =\", n)\n",
    "print(\"Output:\", encrypted_output)\n"
   ]
  }
 ],
 "metadata": {
  "kernelspec": {
   "display_name": "Python 3",
   "language": "python",
   "name": "python3"
  },
  "language_info": {
   "codemirror_mode": {
    "name": "ipython",
    "version": 3
   },
   "file_extension": ".py",
   "mimetype": "text/x-python",
   "name": "python",
   "nbconvert_exporter": "python",
   "pygments_lexer": "ipython3",
   "version": "3.11.3"
  },
  "orig_nbformat": 4
 },
 "nbformat": 4,
 "nbformat_minor": 2
}
