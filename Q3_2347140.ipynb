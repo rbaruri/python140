{
 "cells": [
  {
   "cell_type": "markdown",
   "metadata": {},
   "source": [
    "1. You like using QR code for your firm/domain, you have QR code on your product. Now you would like to generate code for your products in python using QR code. \n",
    "(a). Write a function \"EncodeQR\" which takes the name of the product(in a string) at most \n",
    "5 characters with a minimum of one letter and returns back a list containing the encoded QR code. Use lambda functions wherever you find it appropriate. \n",
    "Example if the input is Hi \n",
    "H - Ascii value is 72, Binary conversion of 72 is 01001000 as this is the first character pad it with 10000000 so the encoded code for H is1000000001001000 \n",
    "i-Ascii value is 105,Binary conversion of 105 is 01101001 and this is second character pad it with 01000000 so the encoded code for 'i' is 0100000001101001 \n",
    "Hi - 10000000010010000100000001101001. "
   ]
  },
  {
   "cell_type": "code",
   "execution_count": 31,
   "metadata": {},
   "outputs": [
    {
     "name": "stdout",
     "output_type": "stream",
     "text": [
      "1000000000100100010000000001101001\n"
     ]
    }
   ],
   "source": [
    "def EncodeQR(name):\n",
    "    pad = 0b10000000\n",
    "    if len(name) < 1 or len(name) > 5:\n",
    "        print(\"Product name should be 1 to 5 characters long.\")\n",
    "    else:\n",
    "        enc_qr = []\n",
    "        for char in name:\n",
    "            binary_value = format(ord(char), '08b')\n",
    "            shift = int(pad) << 1\n",
    "            enc_qr.append('{0:08b}'.format(shift) + binary_value)\n",
    "            \n",
    "        return ''.join(enc_qr)\n",
    "\n",
    "product_name = input(\"Enter Product Name: \")\n",
    "enc_res = EncodeQR(product_name)\n",
    "print(enc_res)\n"
   ]
  }
 ],
 "metadata": {
  "kernelspec": {
   "display_name": "Python 3",
   "language": "python",
   "name": "python3"
  },
  "language_info": {
   "codemirror_mode": {
    "name": "ipython",
    "version": 3
   },
   "file_extension": ".py",
   "mimetype": "text/x-python",
   "name": "python",
   "nbconvert_exporter": "python",
   "pygments_lexer": "ipython3",
   "version": "3.11.3"
  },
  "orig_nbformat": 4
 },
 "nbformat": 4,
 "nbformat_minor": 2
}
