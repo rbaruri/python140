{
 "cells": [
  {
   "cell_type": "markdown",
   "metadata": {},
   "source": [
    "1.1.a)Write a paragraph on your identified domain. Write a python program\n",
    "1.to find the frequency of the given word(your domain name) in the␣\n",
    "paragraph.\n",
    "2.to compute the number of characters, words and lines in the paragraph\n",
    "3.to arrange the letters of the given word(your domain name) in␣\n",
    "↪alphabetical order"
   ]
  },
  {
   "cell_type": "code",
   "execution_count": 39,
   "metadata": {},
   "outputs": [],
   "source": [
    "def find_word_frequency(paragraph, word):\n",
    "    word_list = paragraph.lower().split()\n",
    "    word_frequency = word_list.count(word.lower())\n",
    "    return word_frequency"
   ]
  },
  {
   "cell_type": "code",
   "execution_count": 40,
   "metadata": {},
   "outputs": [],
   "source": [
    "def count_characters_words_lines(paragraph):\n",
    "\n",
    "    num_characters = len(paragraph)\n",
    "    num_words = len(paragraph.split())\n",
    "    num_lines = paragraph.count('\\n') + 1\n",
    "    return num_characters, num_words, num_lines"
   ]
  },
  {
   "cell_type": "code",
   "execution_count": 41,
   "metadata": {},
   "outputs": [],
   "source": [
    "def arrange_letters_in_alphabetical_order(word):\n",
    "    return ''.join(sorted(word.lower()))"
   ]
  },
  {
   "cell_type": "code",
   "execution_count": 42,
   "metadata": {},
   "outputs": [],
   "source": [
    "# Sample paragraph for testing\n",
    "sample_paragraph = \"\"\"\n",
    "A Warehouse Management System (WMS) is a software application that facilitates␣\n",
    "↪the efficient management and control of warehouse operations.\n",
    "It plays a crucial role in optimizing the flow of goods and materials through a␣\n",
    "↪warehouse, from receiving and storage to order fulfillment and shipping.\n",
    "WMS provides real-time visibility into inventory levels, location tracking, and␣\n",
    "↪order status, which helps businesses streamline their supply chain␣\n",
    "↪processes,\n",
    "reduce errors, improve productivity, and ultimately enhance customer␣\n",
    "↪satisfaction.\n",
    "\"\"\""
   ]
  },
  {
   "cell_type": "code",
   "execution_count": 43,
   "metadata": {},
   "outputs": [],
   "source": [
    "domain_word = \"Warehouse\""
   ]
  },
  {
   "cell_type": "code",
   "execution_count": 44,
   "metadata": {},
   "outputs": [
    {
     "name": "stdout",
     "output_type": "stream",
     "text": [
      "Frequency of the word 'Warehouse' in the paragraph: 2\n"
     ]
    }
   ],
   "source": [
    "# Find word frequency\n",
    "frequency = find_word_frequency(sample_paragraph, domain_word)\n",
    "print(f\"Frequency of the word '{domain_word}' in the paragraph: {frequency}\")"
   ]
  },
  {
   "cell_type": "code",
   "execution_count": 45,
   "metadata": {},
   "outputs": [
    {
     "name": "stdout",
     "output_type": "stream",
     "text": [
      "Number of characters: 546\n",
      "Number of words: 73\n",
      "Number of lines: 11\n"
     ]
    }
   ],
   "source": [
    "# Count characters, words, and lines\n",
    "num_characters, num_words, num_lines = count_characters_words_lines(sample_paragraph)\n",
    "print(f\"Number of characters: {num_characters}\")\n",
    "print(f\"Number of words: {num_words}\")\n",
    "print(f\"Number of lines: {num_lines}\")"
   ]
  },
  {
   "cell_type": "code",
   "execution_count": 46,
   "metadata": {},
   "outputs": [
    {
     "name": "stdout",
     "output_type": "stream",
     "text": [
      "Given word 'Warehouse' in alphabetical order:aeehorsuw\n"
     ]
    }
   ],
   "source": [
    "# Arrange letters of the given word in alphabetical order\n",
    "alphabetically_ordered_word = arrange_letters_in_alphabetical_order(domain_word)\n",
    "print(f\"Given word '{domain_word}' in alphabetical order:{alphabetically_ordered_word}\")"
   ]
  },
  {
   "cell_type": "markdown",
   "metadata": {},
   "source": [
    "1.1.b) Write a python program to encrypt a given string(your domain name)using the following method:\n",
    "Encrypt Method: Add a number ‘n’(given by the user ) to each alphabet in the given string to create the corresponding letter."
   ]
  },
  {
   "cell_type": "code",
   "execution_count": 47,
   "metadata": {},
   "outputs": [
    {
     "name": "stdout",
     "output_type": "stream",
     "text": [
      "Input: cricket\n",
      "Encrypt Method: value of n = 7\n",
      "Output: jypjrla\n"
     ]
    }
   ],
   "source": [
    "def encrypt_string(input_string, n):\n",
    "\n",
    "    encrypted_string = \"\"\n",
    "    for char in input_string:\n",
    "        if char.isalpha():\n",
    "            base = ord('a') if char.islower() else ord('A')\n",
    "            encrypted_char = chr((ord(char) - base + n) % 26 + base)\n",
    "            encrypted_string += encrypted_char\n",
    "        else:\n",
    "            encrypted_string += char\n",
    "    return encrypted_string\n",
    "\n",
    "input_string = \"cricket\"\n",
    "n = 7\n",
    "encrypted_output = encrypt_string(input_string, n)\n",
    "print(\"Input:\", input_string)\n",
    "print(\"Encrypt Method: value of n =\", n)\n",
    "print(\"Output:\", encrypted_output)\n"
   ]
  },
  {
   "cell_type": "markdown",
   "metadata": {},
   "source": [
    "#2.Implement a function pay() that takes as input two arguments: an hourly wage␣\n",
    "↪and the number of hours an employee worked last week. Your function should␣\n",
    "↪compute and return the employee’s pay. Any hours worked beyond 40 is␣\n",
    "↪overtime and should be paid 1.5 times the regular hourly wage."
   ]
  },
  {
   "cell_type": "code",
   "execution_count": 48,
   "metadata": {},
   "outputs": [],
   "source": [
    "def pay(hourly_wage, hours_worked):\n",
    "    regular_hours = min(hours_worked, 40)\n",
    "    overtime_hours = max(hours_worked - 40, 0)\n",
    "    regular_pay = regular_hours * hourly_wage\n",
    "    overtime_pay = overtime_hours * (hourly_wage * 1.5)\n",
    "    total_pay = regular_pay + overtime_pay\n",
    "    return total_pay"
   ]
  },
  {
   "cell_type": "code",
   "execution_count": 49,
   "metadata": {},
   "outputs": [
    {
     "name": "stdout",
     "output_type": "stream",
     "text": [
      "Total pay: 550.0\n"
     ]
    }
   ],
   "source": [
    "hourly_wage = 10\n",
    "hours_worked = 50\n",
    "total_pay = pay(hourly_wage, hours_worked)\n",
    "print(\"Total pay:\", total_pay)"
   ]
  },
  {
   "cell_type": "code",
   "execution_count": 50,
   "metadata": {},
   "outputs": [
    {
     "name": "stdout",
     "output_type": "stream",
     "text": [
      "Total pay: 50.0\n"
     ]
    }
   ],
   "source": [
    "hourly_wage = 10\n",
    "hours_worked = 5\n",
    "total_pay = pay(hourly_wage, hours_worked)\n",
    "print(\"Total pay:\", total_pay)"
   ]
  },
  {
   "cell_type": "markdown",
   "metadata": {},
   "source": [
    "3.Create a list of tuples that consists of two neumatic and one string\n",
    "\n",
    "For example houses for rent, the number of bedrooms and their prices, like so:\n",
    "[ ('main st.', 4, 4000), ('elm st.', 1, 1200), ('pine st.', 2, 1600)]\n",
    "\n",
    "Sort the list in the following ways:\n",
    "1.In ascending order by first numeric value\n",
    "2.In descending order by second numeric value\n",
    "3.In alphabetical order of string value'''"
   ]
  },
  {
   "cell_type": "code",
   "execution_count": 51,
   "metadata": {},
   "outputs": [],
   "source": [
    "houses_for_rent = [\n",
    "('main st.', 4, 4000),\n",
    "('elm st.', 1, 1200),\n",
    "('pine st.', 2, 1600)\n",
    "]"
   ]
  },
  {
   "cell_type": "code",
   "execution_count": 52,
   "metadata": {},
   "outputs": [
    {
     "name": "stdout",
     "output_type": "stream",
     "text": [
      "Sorted by bedrooms (ascending): [('elm st.', 1, 1200), ('pine st.', 2, 1600), ('main st.', 4, 4000)]\n"
     ]
    }
   ],
   "source": [
    "# Sort in ascending order by the first numeric value (number of bedrooms)\n",
    "sorted_by_bedrooms = sorted(houses_for_rent, key=lambda x: x[1])\n",
    "print(\"Sorted by bedrooms (ascending):\", sorted_by_bedrooms)"
   ]
  },
  {
   "cell_type": "code",
   "execution_count": 53,
   "metadata": {},
   "outputs": [
    {
     "name": "stdout",
     "output_type": "stream",
     "text": [
      "Sorted by price (descending): [('main st.', 4, 4000), ('pine st.', 2, 1600), ('elm st.', 1, 1200)]\n"
     ]
    }
   ],
   "source": [
    "sorted_by_price_descending = sorted(houses_for_rent, key=lambda x: x[2],reverse=True)\n",
    "print(\"Sorted by price (descending):\", sorted_by_price_descending)"
   ]
  },
  {
   "cell_type": "code",
   "execution_count": 54,
   "metadata": {},
   "outputs": [
    {
     "name": "stdout",
     "output_type": "stream",
     "text": [
      "Sorted alphabetically by address: [('elm st.', 1, 1200), ('main st.', 4, 4000), ('pine st.', 2, 1600)]\n"
     ]
    }
   ],
   "source": [
    "sorted_alphabetically = sorted(houses_for_rent, key=lambda x: x[0])\n",
    "print(\"Sorted alphabetically by address:\", sorted_alphabetically)"
   ]
  }
 ],
 "metadata": {
  "kernelspec": {
   "display_name": "Python 3",
   "language": "python",
   "name": "python3"
  },
  "language_info": {
   "codemirror_mode": {
    "name": "ipython",
    "version": 3
   },
   "file_extension": ".py",
   "mimetype": "text/x-python",
   "name": "python",
   "nbconvert_exporter": "python",
   "pygments_lexer": "ipython3",
   "version": "3.11.3"
  },
  "orig_nbformat": 4
 },
 "nbformat": 4,
 "nbformat_minor": 2
}
