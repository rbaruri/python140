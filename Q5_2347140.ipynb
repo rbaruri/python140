{
 "cells": [
  {
   "cell_type": "markdown",
   "metadata": {},
   "source": [
    "Write a program which accepts as input a DOB in the format \"dd/mm/yyyy \"and prints AGE of the person. Validate the input using Exceptional Handling \n",
    "\n",
    "If no input is given, prompt user to enter input \n",
    "\n",
    "If \"?\" is typed help the user by telling him/her to enter Data of Birth in the required format \n",
    "\n",
    "If date is entered validate the correctness of the date and print AGE \n",
    "\n",
    "If \"q\" or \"Q\" is entered invoke a user defined exception which quits the program after printing \"Bye! Hope you run this program again\". "
   ]
  },
  {
   "cell_type": "code",
   "execution_count": 88,
   "metadata": {},
   "outputs": [
    {
     "name": "stdout",
     "output_type": "stream",
     "text": [
      "Your age is: 21 years\n"
     ]
    }
   ],
   "source": [
    "import datetime\n",
    "\n",
    "try:\n",
    "    dob = input(\"Enter your date of birth (dd/mm/yyyy): \")\n",
    "\n",
    "    if not dob:\n",
    "        print(\"Please enter a date.\")\n",
    "    elif dob == '?':\n",
    "        print(\"Please enter your date of birth in the format (dd/mm/yyyy).\")\n",
    "    elif dob.lower() == 'q':\n",
    "        print(\"Bye! Hope you run this program again.\")\n",
    "    else:\n",
    "        dob_parts = dob.split(\"/\")\n",
    "        if len(dob_parts) != 3:\n",
    "            raise ValueError(\"Invalid date format.\")\n",
    "        \n",
    "        day = int(dob_parts[0])\n",
    "        month = int(dob_parts[1])\n",
    "        year = int(dob_parts[2])\n",
    "        \n",
    "        if day < 1 or day > 31 or month < 1 or month > 12:\n",
    "            raise ValueError(\"Invalid date. Please enter a valid date.\")\n",
    "\n",
    "        current_year = datetime.datetime.now().year\n",
    "        age = current_year - year\n",
    "        \n",
    "        print(\"Your age is:\", age, \"years\")\n",
    "\n",
    "except ValueError as e:\n",
    "    print(e)\n",
    "\n",
    "\n"
   ]
  }
 ],
 "metadata": {
  "kernelspec": {
   "display_name": "Python 3",
   "language": "python",
   "name": "python3"
  },
  "language_info": {
   "codemirror_mode": {
    "name": "ipython",
    "version": 3
   },
   "file_extension": ".py",
   "mimetype": "text/x-python",
   "name": "python",
   "nbconvert_exporter": "python",
   "pygments_lexer": "ipython3",
   "version": "3.11.4"
  },
  "orig_nbformat": 4
 },
 "nbformat": 4,
 "nbformat_minor": 2
}
