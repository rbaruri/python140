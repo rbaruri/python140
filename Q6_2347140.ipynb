{
 "cells": [
  {
   "cell_type": "markdown",
   "metadata": {},
   "source": [
    "Imagine you are creating a form(Admission form/Registration Form, Booking Form, etc.,.)\n",
    "relevant to your domain. Create a function using the ‘re’ module to verify the following.\n",
    "1. The input string is correct or not (name and dot)\n",
    "2. Input has only digit(Register number, phone number)\n",
    "3. Verify the email ID\n",
    "4. Verify date of birth\n",
    "5. Payment option\n",
    "6. All the above five entries received the correct Input"
   ]
  },
  {
   "cell_type": "code",
   "execution_count": 130,
   "metadata": {},
   "outputs": [
    {
     "name": "stdout",
     "output_type": "stream",
     "text": [
      "Name: Ms. Angela White\n",
      "\n",
      "Phone Number: 7625534162\n",
      "\n",
      "Email ID: angela_white@hotmail.com\n",
      "\n",
      "Date of Birth: 16/05/1981\n",
      "\n",
      "Mode of Payment: UPI\n",
      "\n",
      "\n",
      "==================================================\n",
      "\n",
      "\n",
      "Valid name\n",
      "Valid phone no\n",
      "Valid email\n",
      "Valid dob\n",
      "Valid mode of payment\n",
      "All the inputs are valid\n"
     ]
    }
   ],
   "source": [
    "import re\n",
    "\n",
    "name=input(\"Enter your name with designation (Ms./Mrs./Mr.):\")\n",
    "phone=input(\"Enter Phone Number:\")\n",
    "email=input(\"Enter your E-mail ID:\")\n",
    "dob=input(\"Enter your Date of Birth(dd/mm/yyyy):\")\n",
    "mop=input(\"Enter your Mode of Payment:1.Credit Card, 2.Debit Card, 3.UPI, 4.Cash on Delivery:\")\n",
    "\n",
    "\n",
    "def verify(name,phone,email,dob,mop):\n",
    "    c=0\n",
    "    if re.match('^[a-zA-Z\\.].*$',name):\n",
    "        print(\"Valid name\")\n",
    "        c+=1\n",
    "    else:\n",
    "        print(\"Invalid\")\n",
    "    if re.match('^\\d{10}$',phone):\n",
    "        print(\"Valid phone no\")\n",
    "        c+=1\n",
    "    else:\n",
    "        print(\"Invalid phone no\")\n",
    "    if re.match('^[a-zA-Z0-9_]+(\\.[a-zA-Z0-9_]+)*@{1}[a-z]+\\.[a-z]{2,3}$',email):\n",
    "        print(\"Valid email\")\n",
    "        c+=1\n",
    "    else:\n",
    "        print(\"Invalid email\")\n",
    "    if re.match(\"\\d{2}/?\\d{2}/?\\d{4}\",dob):\n",
    "        print(\"Valid dob\")\n",
    "        c+=1\n",
    "    else:\n",
    "        print(\"Invalid dob\")\n",
    "    if re.match(\"Credit Card|Debit Card|UPI|Cash on Delivery\",mop):\n",
    "        print(\"Valid mode of payment\")\n",
    "        c+=1\n",
    "    else:\n",
    "        print(\"Valid mode of payment\")\n",
    "    if(c==5):\n",
    "        print(\"All the inputs are valid\")\n",
    "    else:\n",
    "        print(\"Please try again\")\n",
    "print(\"Name:\",name)\n",
    "print(\"\\nPhone Number:\",phone)\n",
    "print(\"\\nEmail ID:\",email)\n",
    "print(\"\\nDate of Birth:\",dob)\n",
    "print(\"\\nMode of Payment:\",mop)\n",
    "print(\"\\n\\n==================================================\\n\\n\")\n",
    "verify(name,phone,email,dob,mop)\n",
    "\n"
   ]
  }
 ],
 "metadata": {
  "kernelspec": {
   "display_name": "Python 3",
   "language": "python",
   "name": "python3"
  },
  "language_info": {
   "codemirror_mode": {
    "name": "ipython",
    "version": 3
   },
   "file_extension": ".py",
   "mimetype": "text/x-python",
   "name": "python",
   "nbconvert_exporter": "python",
   "pygments_lexer": "ipython3",
   "version": "3.11.4"
  },
  "orig_nbformat": 4
 },
 "nbformat": 4,
 "nbformat_minor": 2
}
