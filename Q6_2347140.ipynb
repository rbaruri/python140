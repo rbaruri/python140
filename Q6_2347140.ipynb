{
 "cells": [
  {
   "cell_type": "markdown",
   "metadata": {},
   "source": [
    "Imagine you are creating a form(Admission form/Registration Form, Booking Form, etc.,.)\n",
    "relevant to your domain. Create a function using the ‘re’ module to verify the following.\n",
    "1. The input string is correct or not (name and dot)\n",
    "2. Input has only digit(Register number, phone number)\n",
    "3. Verify the email ID\n",
    "4. Verify date of birth\n",
    "5. Payment option\n",
    "6. All the above five entries received the correct Input"
   ]
  },
  {
   "cell_type": "code",
   "execution_count": 34,
   "metadata": {},
   "outputs": [
    {
     "name": "stdout",
     "output_type": "stream",
     "text": [
      "Valid name\n",
      "Valid phone no\n",
      "Valid email\n",
      "valid dob\n"
     ]
    }
   ],
   "source": [
    "import re\n",
    "\n",
    "def verify(name,phone,email,dob):\n",
    "    if re.match('^[a-zA-Z\\.].*$',name):\n",
    "        print(\"Valid name\")\n",
    "    else:\n",
    "        print(\"Invalid\")\n",
    "    if re.match('^\\d{10}$',phone):\n",
    "        print(\"Valid phone no\")\n",
    "    else:\n",
    "        print(\"Invalid phone no\")\n",
    "    if re.match('^[\\w\\.]+@+[a-z]+\\.+[a-z]{2,3}',email):\n",
    "        print(\"Valid email\")\n",
    "    else:\n",
    "        print(\"Invalid email\")\n",
    "    if re.match(\"\\d{2}-?\\d{2}-?\\d{4}\",dob):\n",
    "        print(\"Valid dob\")\n",
    "    else:\n",
    "        print(\"Invalid dob\")\n",
    "verify(\"Ms.Rajasree Baruri\",\"8145181703\",\"abc_123@gmail.com\",\"23-01-2002\")\n",
    "\n"
   ]
  }
 ],
 "metadata": {
  "kernelspec": {
   "display_name": "Python 3",
   "language": "python",
   "name": "python3"
  },
  "language_info": {
   "codemirror_mode": {
    "name": "ipython",
    "version": 3
   },
   "file_extension": ".py",
   "mimetype": "text/x-python",
   "name": "python",
   "nbconvert_exporter": "python",
   "pygments_lexer": "ipython3",
   "version": "3.11.4"
  },
  "orig_nbformat": 4
 },
 "nbformat": 4,
 "nbformat_minor": 2
}
